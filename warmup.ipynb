{
  "nbformat": 4,
  "nbformat_minor": 0,
  "metadata": {
    "colab": {
      "name": "warmup.ipynb",
      "provenance": [],
      "collapsed_sections": [],
      "authorship_tag": "ABX9TyNNzNBJX3XZBmbF+TA3epJL",
      "include_colab_link": true
    },
    "kernelspec": {
      "name": "python3",
      "display_name": "Python 3"
    },
    "language_info": {
      "name": "python"
    }
  },
  "cells": [
    {
      "cell_type": "markdown",
      "metadata": {
        "id": "view-in-github",
        "colab_type": "text"
      },
      "source": [
        "<a href=\"https://colab.research.google.com/github/developer0hye/Torch-Warmup/blob/main/warmup.ipynb\" target=\"_parent\"><img src=\"https://colab.research.google.com/assets/colab-badge.svg\" alt=\"Open In Colab\"/></a>"
      ]
    },
    {
      "cell_type": "code",
      "execution_count": null,
      "metadata": {
        "colab": {
          "base_uri": "https://localhost:8080/"
        },
        "id": "9CS1qn-21Oaz",
        "outputId": "8dc68f5f-67bd-40e4-9031-1c5414746896"
      },
      "outputs": [
        {
          "output_type": "stream",
          "name": "stdout",
          "text": [
            "Requirement already satisfied: pytorch-ignite in /usr/local/lib/python3.7/dist-packages (0.4.8)\n",
            "Requirement already satisfied: torch<2,>=1.3 in /usr/local/lib/python3.7/dist-packages (from pytorch-ignite) (1.10.0+cu111)\n",
            "Requirement already satisfied: typing-extensions in /usr/local/lib/python3.7/dist-packages (from torch<2,>=1.3->pytorch-ignite) (3.10.0.2)\n"
          ]
        }
      ],
      "source": [
        "!pip install pytorch-ignite"
      ]
    },
    {
      "cell_type": "code",
      "source": [
        "import torchvision.models as models\n",
        "import torch.optim as optim\n",
        "from ignite.handlers.param_scheduler import create_lr_scheduler_with_warmup \n",
        "import matplotlib.pyplot as plt\n",
        "\n",
        "model = models.resnet18()\n",
        "\n",
        "total_iteration = 20\n",
        "warmup_iteration = 10\n",
        "initial_lr = 1e-3\n",
        "warmup_initial_lr = 1e-5\n",
        "\n",
        "optimizer = optim.Adam(model.parameters(), lr=initial_lr)\n",
        "lr_scheduler = create_lr_scheduler_with_warmup(optim.lr_scheduler.CosineAnnealingLR(optimizer, T_max=total_iteration-warmup_iteration),\n",
        "                                               warmup_start_value=warmup_initial_lr,\n",
        "                                               warmup_duration=warmup_iteration,\n",
        "                                               warmup_end_value=initial_lr)\n",
        "\n",
        "x = []\n",
        "y = []\n",
        "\n",
        "for i in range(total_iteration):\n",
        "  lr_scheduler(None)\n",
        "  x.append(i)\n",
        "  y.append(optimizer.param_groups[0]['lr'])\n",
        "  print(optimizer.param_groups[0]['lr'])\n",
        "\n",
        "plt.plot(x, y)\n",
        "plt.show()"
      ],
      "metadata": {
        "colab": {
          "base_uri": "https://localhost:8080/",
          "height": 632
        },
        "id": "h_eRB6mm1uDm",
        "outputId": "35c73c1a-dff3-4a0d-f3d7-bb46cc704974"
      },
      "execution_count": 18,
      "outputs": [
        {
          "output_type": "stream",
          "name": "stdout",
          "text": [
            "1e-05\n",
            "0.00012\n",
            "0.00023\n",
            "0.00034\n",
            "0.00045000000000000004\n",
            "0.00056\n",
            "0.00067\n",
            "0.0007800000000000001\n",
            "0.0008900000000000001\n",
            "0.001\n",
            "0.0009755282581475768\n",
            "0.0009045084971874736\n",
            "0.0007938926261462366\n",
            "0.0006545084971874737\n",
            "0.0005\n",
            "0.00034549150281252633\n",
            "0.0002061073738537635\n",
            "9.549150281252634e-05\n",
            "2.4471741852423235e-05\n",
            "0.0\n"
          ]
        },
        {
          "output_type": "display_data",
          "data": {
            "image/png": "[encoded data removed]",
            "text/plain": [
              "<Figure size 432x288 with 1 Axes>"
            ]
          },
          "metadata": {
            "needs_background": "light"
          }
        }
      ]
    }
  ]
}